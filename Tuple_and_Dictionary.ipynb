{
 "cells": [
  {
   "cell_type": "code",
   "execution_count": 2,
   "id": "484c8505-88db-4765-a962-e5c4b692bde9",
   "metadata": {},
   "outputs": [
    {
     "data": {
      "text/plain": [
       "10"
      ]
     },
     "execution_count": 2,
     "metadata": {},
     "output_type": "execute_result"
    }
   ],
   "source": [
    "# tuple\n",
    "# immutable\n",
    "# list index\n",
    "mytuple = (10,20)\n",
    "mytuple[0]"
   ]
  },
  {
   "cell_type": "code",
   "execution_count": 3,
   "id": "51a3dc4e-034e-4c90-b4b1-e63fb5ee4252",
   "metadata": {},
   "outputs": [
    {
     "data": {
      "text/plain": [
       "3"
      ]
     },
     "execution_count": 3,
     "metadata": {},
     "output_type": "execute_result"
    }
   ],
   "source": [
    "# 2 function only \n",
    "mytuple = (10,20,10,10)\n",
    "mytuple.count(10)"
   ]
  },
  {
   "cell_type": "code",
   "execution_count": 4,
   "id": "780523d7-dacc-439f-983a-849d57851f5e",
   "metadata": {},
   "outputs": [
    {
     "data": {
      "text/plain": [
       "0"
      ]
     },
     "execution_count": 4,
     "metadata": {},
     "output_type": "execute_result"
    }
   ],
   "source": [
    "mytuple.index(10) # to give index position of a element (first occurence)"
   ]
  },
  {
   "cell_type": "code",
   "execution_count": null,
   "id": "2fa61ec3-9f17-4bb0-8a63-6a74271f4e6c",
   "metadata": {},
   "outputs": [],
   "source": [
    "#dictonary\n",
    "# stored in form of key value pair\n",
    "# dictonary => no index\n",
    "# key:value\n",
    "# key => unique\n",
    "# value => unique / duplicate\n",
    "# ordered collection of element"
   ]
  },
  {
   "cell_type": "code",
   "execution_count": 12,
   "id": "349f13ec-9101-43e0-add2-552c97daa14a",
   "metadata": {},
   "outputs": [
    {
     "name": "stdout",
     "output_type": "stream",
     "text": [
      "85\n"
     ]
    }
   ],
   "source": [
    "mydictionary = {10:\"yash\",11:\"aman\" , \"salary\":80}\n",
    "# to access a element pass key istead of index\n",
    "mydictionary[10]\n",
    "# to update a value in dictonary for key 10\n",
    "mydictionary[10] = \"naina\"\n",
    "# if key not present insert otherwise update \n",
    "mydictionary[12] = \"raj\"\n",
    "mydictionary[\"salary\"] =  mydictonary[\"salary\"] + 5\n",
    "print(mydictionary[\"salary\"])"
   ]
  },
  {
   "cell_type": "code",
   "execution_count": 13,
   "id": "72adfb74-c947-4c41-bdfa-52c85bf20701",
   "metadata": {},
   "outputs": [
    {
     "name": "stdout",
     "output_type": "stream",
     "text": [
      "dict_keys([10, 11, 'salary', 12])\n",
      "dict_values(['naina', 'aman', 85, 'raj'])\n",
      "dict_items([(10, 'naina'), (11, 'aman'), ('salary', 85), (12, 'raj')])\n"
     ]
    }
   ],
   "source": [
    "print(mydictionary.keys())\n",
    "print(mydictionary.values())\n",
    "print(mydictionary.items())"
   ]
  },
  {
   "cell_type": "code",
   "execution_count": 18,
   "id": "b78290e2-722e-40f6-8cdd-cafedd414712",
   "metadata": {},
   "outputs": [
    {
     "name": "stdout",
     "output_type": "stream",
     "text": [
      "10 yash\n",
      "11 aman\n",
      "salary 80\n"
     ]
    }
   ],
   "source": [
    "mydictionary = {10:\"yash\",11:\"aman\" , \"salary\":80}\n",
    "for i in mydictionary:\n",
    "    print(i,mydictionary[i])"
   ]
  },
  {
   "cell_type": "code",
   "execution_count": 20,
   "id": "136c30d8-42e7-4f45-af38-9c4bcf592843",
   "metadata": {},
   "outputs": [
    {
     "name": "stdout",
     "output_type": "stream",
     "text": [
      "10 yash\n",
      "11 aman\n",
      "salary 80\n"
     ]
    }
   ],
   "source": [
    "mydictionary = {10:\"yash\",11:\"aman\" , \"salary\":80}\n",
    "for i in mydictionary.keys():\n",
    "    print(i,mydictionary[i])"
   ]
  },
  {
   "cell_type": "code",
   "execution_count": 25,
   "id": "b066b61e-cd92-448b-ba68-ef61d93806e9",
   "metadata": {},
   "outputs": [
    {
     "name": "stdout",
     "output_type": "stream",
     "text": [
      "{'h': 1, 'e': 1, 'y': 1}\n"
     ]
    }
   ],
   "source": [
    "s = \"hey\"\n",
    "mydictionary = {}\n",
    "for i in s:\n",
    "    mydictionary[i] = 1\n",
    "print(mydictionary)"
   ]
  },
  {
   "cell_type": "code",
   "execution_count": 30,
   "id": "f02292b7-eb97-4498-b48c-a7672b15d9c3",
   "metadata": {},
   "outputs": [
    {
     "name": "stdout",
     "output_type": "stream",
     "text": [
      "{'total': 10}\n"
     ]
    }
   ],
   "source": [
    "# to count number of characters in s and store in dict in {total:10} form\n",
    "s = \"helllo hey\"\n",
    "mydict = {} \n",
    "total = 0\n",
    "for i in s:\n",
    "    total += 1\n",
    "mydict[\"total\"] = total\n",
    "print(mydict)"
   ]
  },
  {
   "cell_type": "code",
   "execution_count": 32,
   "id": "c6839d41-198b-45da-be0a-f1a593f093be",
   "metadata": {},
   "outputs": [
    {
     "name": "stdout",
     "output_type": "stream",
     "text": [
      "{'e': 1, 'a': 1}\n"
     ]
    }
   ],
   "source": [
    "s = \"regx a\"\n",
    "mydict = {}\n",
    "for i in s:\n",
    "    if(i == \"a\" or i == \"e\" or i == \"o\" or i == \"u\"):\n",
    "        mydict[i] = 1\n",
    "print(mydict)"
   ]
  },
  {
   "cell_type": "code",
   "execution_count": 35,
   "id": "053b5074-7d87-4eab-abcc-772a303093c2",
   "metadata": {},
   "outputs": [
    {
     "name": "stdout",
     "output_type": "stream",
     "text": [
      "{'e': 2, 'o': 1, 'a': 1, 'i': 1}\n"
     ]
    }
   ],
   "source": [
    "s = \"hey hello abhi\"\n",
    "mydict = {}\n",
    "for i in s:\n",
    "    if(i in \"aeiou\"):\n",
    "        if(i not in mydict):\n",
    "            mydict[i] = 1 # insert\n",
    "        else:\n",
    "            mydict[i] = mydict[i] + 1 # update \n",
    "print(mydict)"
   ]
  },
  {
   "cell_type": "code",
   "execution_count": 10,
   "id": "d112877b-f1ec-4483-bbc8-d6f1f01c45ec",
   "metadata": {},
   "outputs": [
    {
     "name": "stdout",
     "output_type": "stream",
     "text": [
      "anagram\n"
     ]
    }
   ],
   "source": [
    "# to check if string is a anagram\n",
    "# s = raj    rja jra jar\n",
    "# Approach check each character and its count in the 2 string using dictionary\n",
    "s = \"raj\"\n",
    "t = \"jar\"\n",
    "dict1 = {}\n",
    "dict2 = {}\n",
    "for i in s:\n",
    "    if(i in dict1):\n",
    "        dict1[i] = dict1[i] + 1\n",
    "    else:\n",
    "        dict1[i] = 1\n",
    "for i in t:\n",
    "    if(i in dict2):\n",
    "        dict2[i] = dict2[i] + 1\n",
    "    else:\n",
    "        dict2[i] = 1\n",
    "if(dict1 == dict2):\n",
    "    print(\"anagram\")\n",
    "else:\n",
    "    print(\"Not a anagram\")"
   ]
  },
  {
   "cell_type": "code",
   "execution_count": null,
   "id": "3eb231f2-21d3-40e9-9d49-4e9e163f4141",
   "metadata": {},
   "outputs": [],
   "source": [
    "# List Comphrension : summarised form to create new list\n",
    "# better readability of code"
   ]
  },
  {
   "cell_type": "code",
   "execution_count": 11,
   "id": "bf0d8edc-6c96-4658-a127-7c10a68e3c9b",
   "metadata": {},
   "outputs": [
    {
     "data": {
      "text/plain": [
       "[1, 2, 3, 4, 5, 6, 7, 8, 9]"
      ]
     },
     "execution_count": 11,
     "metadata": {},
     "output_type": "execute_result"
    }
   ],
   "source": [
    "[i for i in range(1,10)]"
   ]
  },
  {
   "cell_type": "code",
   "execution_count": null,
   "id": "5443f060-1b16-428e-92e0-fc8eb60ecbd7",
   "metadata": {},
   "outputs": [],
   "source": [
    "# set => datatype mutiple values are stored\n",
    "# contain all immutable values\n",
    "# set has all unique elements\n",
    "# set is mutable datatype \n",
    "# set are unordered"
   ]
  },
  {
   "cell_type": "code",
   "execution_count": 12,
   "id": "13c12e43-ac61-487a-9790-cd84aecd2c6e",
   "metadata": {},
   "outputs": [
    {
     "name": "stdout",
     "output_type": "stream",
     "text": [
      "<class 'set'>\n"
     ]
    }
   ],
   "source": [
    "myset = set({})\n",
    "print(type(myset))"
   ]
  },
  {
   "cell_type": "code",
   "execution_count": 13,
   "id": "d32db41c-1b3a-4ca6-9b4c-25b3eacb8cf7",
   "metadata": {},
   "outputs": [
    {
     "name": "stdout",
     "output_type": "stream",
     "text": [
      "{1, 2, 3, 4, 5, 6, 100}\n"
     ]
    }
   ],
   "source": [
    "myset = {1,2,3,4,5,6,1,1,3,100} \n",
    "print(myset)"
   ]
  },
  {
   "cell_type": "code",
   "execution_count": 14,
   "id": "8156d853-01b6-4680-b5b9-0aed45c3be2f",
   "metadata": {},
   "outputs": [
    {
     "name": "stdout",
     "output_type": "stream",
     "text": [
      "{1, 2, 3, 4, 5, 6, 100, 99}\n"
     ]
    }
   ],
   "source": [
    "myset.add(99) # to add element in set\n",
    "print(myset)"
   ]
  },
  {
   "cell_type": "code",
   "execution_count": 15,
   "id": "eea8610f-1e66-40a5-b7a8-1028b5481341",
   "metadata": {},
   "outputs": [
    {
     "name": "stdout",
     "output_type": "stream",
     "text": [
      "{1, 3, 4, 5, 6, 100, 99}\n"
     ]
    }
   ],
   "source": [
    "myset.remove(2) # to remove a element\n",
    "print(myset)"
   ]
  },
  {
   "cell_type": "code",
   "execution_count": 23,
   "id": "56944842-c7ca-41fd-b5e3-e49dc4b6a068",
   "metadata": {},
   "outputs": [
    {
     "name": "stdout",
     "output_type": "stream",
     "text": [
      "{1, 2, 3, 'hey'}\n"
     ]
    }
   ],
   "source": [
    "myset = {1,2,3}\n",
    "myset.update([\"hey\"])\n",
    "print(myset)"
   ]
  },
  {
   "cell_type": "code",
   "execution_count": 27,
   "id": "e072132b-d411-4f35-b414-94f058e8e77a",
   "metadata": {},
   "outputs": [
    {
     "name": "stdout",
     "output_type": "stream",
     "text": [
      "{1, 2, 3, 4, 8, 56, 57}\n",
      "{4}\n"
     ]
    }
   ],
   "source": [
    "# to combine result between two or more sets\n",
    "myset1 = {1,2,4}\n",
    "myset2 = {56,57,3,8,4}\n",
    "print(myset1.union(myset2))\n",
    "print(myset1.intersection(myset2))"
   ]
  },
  {
   "cell_type": "code",
   "execution_count": 33,
   "id": "530b86a6-a478-411e-9752-a9b2bb2b05e3",
   "metadata": {},
   "outputs": [
    {
     "name": "stdout",
     "output_type": "stream",
     "text": [
      "{1, 2, 4}\n",
      "True\n",
      "False\n"
     ]
    }
   ],
   "source": [
    "# difference\n",
    "# is superset\n",
    "# is disjoint\n",
    "myset1 = {1,2,4}\n",
    "myset2 = {56,57,3,8}\n",
    "print(myset1.difference(myset2))\n",
    "print(myset1.isdisjoint(myset2))\n",
    "print(myset1.issuperset(myset2))"
   ]
  },
  {
   "cell_type": "code",
   "execution_count": 39,
   "id": "d9caefee-4c91-4264-a94e-1f9850db771c",
   "metadata": {},
   "outputs": [
    {
     "data": {
      "text/plain": [
       "{'h': 1, 'e': 1, 'l': 1, 'o': 1}"
      ]
     },
     "execution_count": 39,
     "metadata": {},
     "output_type": "execute_result"
    }
   ],
   "source": [
    "# dictionary comphrenhesion\n",
    "{i:1 for i in \"hello\"}"
   ]
  },
  {
   "cell_type": "code",
   "execution_count": 38,
   "id": "861944e2-f4b6-4855-b161-f1403c8c0fc0",
   "metadata": {},
   "outputs": [
    {
     "data": {
      "text/plain": [
       "{0, 1, 2, 3, 4}"
      ]
     },
     "execution_count": 38,
     "metadata": {},
     "output_type": "execute_result"
    }
   ],
   "source": [
    "# set comphrenhesion\n",
    "{i for i in range(0,5)}"
   ]
  },
  {
   "cell_type": "code",
   "execution_count": 4,
   "id": "c668f053-ec79-43cb-b635-da99eb29d2c8",
   "metadata": {},
   "outputs": [
    {
     "name": "stdin",
     "output_type": "stream",
     "text": [
      "Enter a number:  12345\n"
     ]
    },
    {
     "name": "stdout",
     "output_type": "stream",
     "text": [
      "not a palindrome\n"
     ]
    }
   ],
   "source": [
    "# Check if a number is a palindrome\n",
    "\n",
    "num = int(input(\"Enter a number: \"))\n",
    "original = num\n",
    "temp = 0\n",
    "\n",
    "while (num > 0):\n",
    "    digit = num % 10\n",
    "    temp = temp * 10 + digit\n",
    "    num = num // 10\n",
    "\n",
    "if (original == temp):\n",
    "    print(\"palindrome\")\n",
    "else:\n",
    "    print(\"not a palindrome\")\n"
   ]
  },
  {
   "cell_type": "code",
   "execution_count": null,
   "id": "9913eaec-8a59-4713-bf56-0b252379eabd",
   "metadata": {},
   "outputs": [],
   "source": []
  }
 ],
 "metadata": {
  "kernelspec": {
   "display_name": "Python 3 (ipykernel)",
   "language": "python",
   "name": "python3"
  },
  "language_info": {
   "codemirror_mode": {
    "name": "ipython",
    "version": 3
   },
   "file_extension": ".py",
   "mimetype": "text/x-python",
   "name": "python",
   "nbconvert_exporter": "python",
   "pygments_lexer": "ipython3",
   "version": "3.11.0rc2"
  }
 },
 "nbformat": 4,
 "nbformat_minor": 5
}
